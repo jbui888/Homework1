{
 "cells": [
  {
   "cell_type": "code",
   "execution_count": 45,
   "metadata": {
    "collapsed": true,
    "pycharm": {
     "is_executing": false
    }
   },
   "outputs": [],
   "source": [
    "import numpy as np\n",
    "import pandas as pd\n",
    "import matplotlib as mpl\n",
    "\n",
    "def solvepoisson(n):\n",
    "    #Solves 2D Poisson Eqn with Dirichlet Boundary Conditions\n",
    "    #Assembles the system matrix and right hand side\n",
    "    h = 1.0 / n #Set up grid\n",
    "    N = np.power((n+1),2)\n",
    "    x = np.multiply(h,np.arange(0,n+1))\n",
    "    y = x\n",
    "    \n",
    "    uexact = lambda (x,y) : np.divide(np.exp((-4.*np.power((x-0.3),2))),np.exp(9.*np.power((y-0.6),2))) #Exact Solution\n",
    "    g = uexact #Solution at Boundaries = Exact Solution\n",
    "    f = lambda (x,y) : np.multiply(np.exp(((-4.*np.power((x-0.3),2)) - (9.*np.power((y-0.6),2)))), (26. - np.power(((18.*y-10.8)),2)-np.power((8.*x-2.4),2))) #LHS\n",
    "    \n",
    "    umap = np.reshape(np.arange(1,N+1),(n+1,n+1))\n",
    "    A = np.zeros((N,N))\n",
    "    b = np.zeros((N,1))\n",
    "    \n",
    "    for j in range(0,n+1):\n",
    "        for i in range(0,n+1):\n",
    "            row = umap[i,j]\n",
    "            if i == 0 or i == n or j == 0 or j == n: #Applies Dirichlet BC at Walls\n",
    "                A[row,row] = 1.0\n",
    "                b[row] = g([x[i],y[j]])\n",
    "            else:\n",
    "                A[row,row] = 4.0\n",
    "                A[row,umap[i+1,j]] = -1.0\n",
    "                A[row,umap[i-1,j]] = -1.0\n",
    "                A[row,umap[i,j+1]] = -1.0\n",
    "                A[row,umap[i,j-1]] = -1.0\n",
    "                print f((i,j))\n",
    "                #b[row] = f([x[i],y[j]])*h^2 \n",
    "    return A,b"
   ]
  },
  {
   "cell_type": "code",
   "execution_count": 40,
   "outputs": [
    {
     "name": "stdout",
     "text": [
      "4.314762281641501e-24\n",
      "-1.9691530748872695e-06\n"
     ],
     "output_type": "stream"
    }
   ],
   "source": [
    "uexact = lambda (x,y) : np.exp((-4.*np.power((x-0.3),2)) - (9.*np.power((y-0.6),2)))  #Exact Solution\n",
    "print(uexact([1.,3.]))\n",
    "\n",
    "f = lambda (x,y) : np.multiply(np.exp(((-4.*np.power((x-0.3),2)) - (9.*np.power((y-0.6),2)))), (26. - np.power(((18.*y-10.8)),2)-np.power((8.*x-2.4),2)))\n",
    "print(f((1.,2.)))"
   ],
   "metadata": {
    "collapsed": false,
    "pycharm": {
     "name": "#%%\n",
     "is_executing": false
    }
   }
  },
  {
   "cell_type": "code",
   "execution_count": null,
   "outputs": [],
   "source": [
    "n = 2\n",
    "h = 1.0/n\n",
    "x = np.multiply(h,np.arange(0,n+1))\n",
    "y = x\n",
    "\n",
    "N = np.power((n+1),2)\n",
    "\n",
    "umap = np.reshape(np.arange(0,N),(n+1,n+1)).transpose()\n",
    "A = np.zeros((N,N))\n",
    "b = np.zeros((N,1))\n",
    "\n",
    "\n",
    "for j in range(0,n+1):\n",
    "    for i in range(0,n+1):\n",
    "        row = umap[i,j]\n",
    "        if i == 0 or i == n or j == 0 or j == n:\n",
    "            A[row,row] = 1.0\n",
    "            b[row] = g[x[i],y[j]]\n",
    "        else:\n",
    "            print(\"hi\",row)\n",
    "            A[row,row] = 4.0\n",
    "            A[row,umap[i+1,j]] = -1.0\n",
    "            A[row,umap[i-1,j]] = -1.0\n",
    "            A[row,umap[i,j+1]] = -1.0\n",
    "            A[row,umap[i,j-1]] = -1.0\n",
    "            b[row] = f[x[i],y[j]]*h^2\n",
    "\n",
    "            "
   ],
   "metadata": {
    "collapsed": false,
    "pycharm": {
     "name": "#%%\n"
    }
   }
  },
  {
   "cell_type": "code",
   "execution_count": 8,
   "outputs": [
    {
     "name": "stdout",
     "text": [
      "[[0 3 6]\n",
      " [1 4 7]\n",
      " [2 5 8]]\n"
     ],
     "output_type": "stream"
    }
   ],
   "source": [
    "print(umap)\n",
    "A_prime = pd.DataFrame(A)"
   ],
   "metadata": {
    "collapsed": false,
    "pycharm": {
     "name": "#%%\n",
     "is_executing": false
    }
   }
  },
  {
   "cell_type": "code",
   "execution_count": 59,
   "outputs": [
    {
     "data": {
      "text/plain": "     0    1    2    3    4    5    6    7    8\n0  1.0  0.0  0.0  0.0  0.0  0.0  0.0  0.0  0.0\n1  0.0  1.0  0.0  0.0  0.0  0.0  0.0  0.0  0.0\n2  0.0  0.0  1.0  0.0  0.0  0.0  0.0  0.0  0.0\n3  0.0  0.0  0.0  1.0  0.0  0.0  0.0  0.0  0.0\n4  0.0 -1.0  0.0 -1.0  4.0 -1.0  0.0 -1.0  0.0\n5  0.0  0.0  0.0  0.0  0.0  1.0  0.0  0.0  0.0\n6  0.0  0.0  0.0  0.0  0.0  0.0  1.0  0.0  0.0\n7  0.0  0.0  0.0  0.0  0.0  0.0  0.0  1.0  0.0\n8  0.0  0.0  0.0  0.0  0.0  0.0  0.0  0.0  1.0",
      "text/html": "<div>\n<style scoped>\n    .dataframe tbody tr th:only-of-type {\n        vertical-align: middle;\n    }\n\n    .dataframe tbody tr th {\n        vertical-align: top;\n    }\n\n    .dataframe thead th {\n        text-align: right;\n    }\n</style>\n<table border=\"1\" class=\"dataframe\">\n  <thead>\n    <tr style=\"text-align: right;\">\n      <th></th>\n      <th>0</th>\n      <th>1</th>\n      <th>2</th>\n      <th>3</th>\n      <th>4</th>\n      <th>5</th>\n      <th>6</th>\n      <th>7</th>\n      <th>8</th>\n    </tr>\n  </thead>\n  <tbody>\n    <tr>\n      <th>0</th>\n      <td>1.0</td>\n      <td>0.0</td>\n      <td>0.0</td>\n      <td>0.0</td>\n      <td>0.0</td>\n      <td>0.0</td>\n      <td>0.0</td>\n      <td>0.0</td>\n      <td>0.0</td>\n    </tr>\n    <tr>\n      <th>1</th>\n      <td>0.0</td>\n      <td>1.0</td>\n      <td>0.0</td>\n      <td>0.0</td>\n      <td>0.0</td>\n      <td>0.0</td>\n      <td>0.0</td>\n      <td>0.0</td>\n      <td>0.0</td>\n    </tr>\n    <tr>\n      <th>2</th>\n      <td>0.0</td>\n      <td>0.0</td>\n      <td>1.0</td>\n      <td>0.0</td>\n      <td>0.0</td>\n      <td>0.0</td>\n      <td>0.0</td>\n      <td>0.0</td>\n      <td>0.0</td>\n    </tr>\n    <tr>\n      <th>3</th>\n      <td>0.0</td>\n      <td>0.0</td>\n      <td>0.0</td>\n      <td>1.0</td>\n      <td>0.0</td>\n      <td>0.0</td>\n      <td>0.0</td>\n      <td>0.0</td>\n      <td>0.0</td>\n    </tr>\n    <tr>\n      <th>4</th>\n      <td>0.0</td>\n      <td>-1.0</td>\n      <td>0.0</td>\n      <td>-1.0</td>\n      <td>4.0</td>\n      <td>-1.0</td>\n      <td>0.0</td>\n      <td>-1.0</td>\n      <td>0.0</td>\n    </tr>\n    <tr>\n      <th>5</th>\n      <td>0.0</td>\n      <td>0.0</td>\n      <td>0.0</td>\n      <td>0.0</td>\n      <td>0.0</td>\n      <td>1.0</td>\n      <td>0.0</td>\n      <td>0.0</td>\n      <td>0.0</td>\n    </tr>\n    <tr>\n      <th>6</th>\n      <td>0.0</td>\n      <td>0.0</td>\n      <td>0.0</td>\n      <td>0.0</td>\n      <td>0.0</td>\n      <td>0.0</td>\n      <td>1.0</td>\n      <td>0.0</td>\n      <td>0.0</td>\n    </tr>\n    <tr>\n      <th>7</th>\n      <td>0.0</td>\n      <td>0.0</td>\n      <td>0.0</td>\n      <td>0.0</td>\n      <td>0.0</td>\n      <td>0.0</td>\n      <td>0.0</td>\n      <td>1.0</td>\n      <td>0.0</td>\n    </tr>\n    <tr>\n      <th>8</th>\n      <td>0.0</td>\n      <td>0.0</td>\n      <td>0.0</td>\n      <td>0.0</td>\n      <td>0.0</td>\n      <td>0.0</td>\n      <td>0.0</td>\n      <td>0.0</td>\n      <td>1.0</td>\n    </tr>\n  </tbody>\n</table>\n</div>"
     },
     "metadata": {},
     "output_type": "execute_result",
     "execution_count": 59
    }
   ],
   "source": [
    "A_prime\n"
   ],
   "metadata": {
    "collapsed": false,
    "pycharm": {
     "name": "#%%\n",
     "is_executing": false
    }
   }
  },
  {
   "cell_type": "code",
   "execution_count": 44,
   "outputs": [
    {
     "ename": "TypeError",
     "evalue": "ufunc 'bitwise_xor' not supported for the input types, and the inputs could not be safely coerced to any supported types according to the casting rule ''safe''",
     "traceback": [
      "\u001b[0;31m\u001b[0m",
      "\u001b[0;31mTypeError\u001b[0mTraceback (most recent call last)",
      "\u001b[0;32m<ipython-input-44-ec3b85b87e11>\u001b[0m in \u001b[0;36m<module>\u001b[0;34m()\u001b[0m\n\u001b[1;32m      1\u001b[0m \u001b[0;34m\u001b[0m\u001b[0m\n\u001b[0;32m----> 2\u001b[0;31m \u001b[0msolvepoisson\u001b[0m\u001b[0;34m(\u001b[0m\u001b[0;36m100\u001b[0m\u001b[0;34m)\u001b[0m\u001b[0;34m\u001b[0m\u001b[0m\n\u001b[0m\u001b[1;32m      3\u001b[0m \u001b[0;34m\u001b[0m\u001b[0m\n",
      "\u001b[0;32m<ipython-input-43-2277d9a9b8e8>\u001b[0m in \u001b[0;36msolvepoisson\u001b[0;34m(n)\u001b[0m\n\u001b[1;32m     32\u001b[0m                 \u001b[0mA\u001b[0m\u001b[0;34m[\u001b[0m\u001b[0mrow\u001b[0m\u001b[0;34m,\u001b[0m\u001b[0mumap\u001b[0m\u001b[0;34m[\u001b[0m\u001b[0mi\u001b[0m\u001b[0;34m,\u001b[0m\u001b[0mj\u001b[0m\u001b[0;34m+\u001b[0m\u001b[0;36m1\u001b[0m\u001b[0;34m]\u001b[0m\u001b[0;34m]\u001b[0m \u001b[0;34m=\u001b[0m \u001b[0;34m-\u001b[0m\u001b[0;36m1.0\u001b[0m\u001b[0;34m\u001b[0m\u001b[0m\n\u001b[1;32m     33\u001b[0m                 \u001b[0mA\u001b[0m\u001b[0;34m[\u001b[0m\u001b[0mrow\u001b[0m\u001b[0;34m,\u001b[0m\u001b[0mumap\u001b[0m\u001b[0;34m[\u001b[0m\u001b[0mi\u001b[0m\u001b[0;34m,\u001b[0m\u001b[0mj\u001b[0m\u001b[0;34m-\u001b[0m\u001b[0;36m1\u001b[0m\u001b[0;34m]\u001b[0m\u001b[0;34m]\u001b[0m \u001b[0;34m=\u001b[0m \u001b[0;34m-\u001b[0m\u001b[0;36m1.0\u001b[0m\u001b[0;34m\u001b[0m\u001b[0m\n\u001b[0;32m---> 34\u001b[0;31m                 \u001b[0mb\u001b[0m\u001b[0;34m[\u001b[0m\u001b[0mrow\u001b[0m\u001b[0;34m]\u001b[0m \u001b[0;34m=\u001b[0m \u001b[0mf\u001b[0m\u001b[0;34m(\u001b[0m\u001b[0;34m[\u001b[0m\u001b[0mx\u001b[0m\u001b[0;34m[\u001b[0m\u001b[0mi\u001b[0m\u001b[0;34m]\u001b[0m\u001b[0;34m,\u001b[0m\u001b[0my\u001b[0m\u001b[0;34m[\u001b[0m\u001b[0mj\u001b[0m\u001b[0;34m]\u001b[0m\u001b[0;34m]\u001b[0m\u001b[0;34m)\u001b[0m\u001b[0;34m*\u001b[0m\u001b[0mh\u001b[0m\u001b[0;34m^\u001b[0m\u001b[0;36m2\u001b[0m\u001b[0;34m\u001b[0m\u001b[0m\n\u001b[0m\u001b[1;32m     35\u001b[0m     \u001b[0;32mreturn\u001b[0m \u001b[0mA\u001b[0m\u001b[0;34m,\u001b[0m\u001b[0mb\u001b[0m\u001b[0;34m\u001b[0m\u001b[0m\n\u001b[1;32m     36\u001b[0m \u001b[0;34m\u001b[0m\u001b[0m\n",
      "\u001b[0;31mTypeError\u001b[0m: ufunc 'bitwise_xor' not supported for the input types, and the inputs could not be safely coerced to any supported types according to the casting rule ''safe''"
     ],
     "output_type": "error"
    }
   ],
   "source": [
    "solvepoisson(100)"
   ],
   "metadata": {
    "collapsed": false,
    "pycharm": {
     "name": "#%%\n",
     "is_executing": false
    }
   }
  },
  {
   "cell_type": "code",
   "execution_count": null,
   "outputs": [],
   "source": [
    "\n"
   ],
   "metadata": {
    "collapsed": false,
    "pycharm": {
     "name": "#%%\n"
    }
   }
  }
 ],
 "metadata": {
  "kernelspec": {
   "display_name": "Python 2",
   "language": "python",
   "name": "python2"
  },
  "language_info": {
   "codemirror_mode": {
    "name": "ipython",
    "version": 2
   },
   "file_extension": ".py",
   "mimetype": "text/x-python",
   "name": "python",
   "nbconvert_exporter": "python",
   "pygments_lexer": "ipython2",
   "version": "2.7.6"
  },
  "pycharm": {
   "stem_cell": {
    "cell_type": "raw",
    "source": [],
    "metadata": {
     "collapsed": false
    }
   }
  }
 },
 "nbformat": 4,
 "nbformat_minor": 0
}