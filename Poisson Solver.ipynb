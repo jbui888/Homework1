{
 "cells": [
  {
   "cell_type": "code",
   "execution_count": 6,
   "metadata": {
    "collapsed": true,
    "pycharm": {
     "is_executing": false
    }
   },
   "outputs": [],
   "source": [
    "import numpy as np\n",
    "import pandas as pd\n",
    "import matplotlib as mpl\n",
    "\n",
    "def assemblepoission(n,f,g):\n",
    "    #Assembles the system matrix and right hand side\n",
    "    h = 1.0 / n\n",
    "    N = np.power((n+1),2)\n",
    "    x = np.multiply(h,np.arange(0,n+1))\n",
    "    y = x\n",
    "    \n",
    "    umap = np.reshape(np.arange(1,N+1),(n+1,n+1))\n",
    "    A = np.zeros(N,N)\n",
    "    b = np.zeros(N,1)\n",
    "    \n",
    "    for j in range(0,n+1):\n",
    "        for i in range(0,n+1):\n",
    "            row = umap(i,j)\n",
    "            if i == 0 or i == n or j == 0 or j == n:\n",
    "                A(row,row) = 1\n",
    "                b(row) = g(x(i),y(j))\n",
    "                \n",
    "                \n",
    "    "
   ]
  },
  {
   "cell_type": "code",
   "execution_count": 57,
   "outputs": [
    {
     "name": "stdout",
     "text": [
      "('hi', 4)\n"
     ],
     "output_type": "stream"
    }
   ],
   "source": [
    "n = 2\n",
    "h = 1.0/n\n",
    "x = np.multiply(h,np.arange(0,n+1))\n",
    "y = x\n",
    "\n",
    "N = np.power((n+1),2)\n",
    "\n",
    "umap = np.reshape(np.arange(0,N),(n+1,n+1)).transpose()\n",
    "A = np.zeros((N,N))\n",
    "b = np.zeros((N,1))\n",
    "\n",
    "\n",
    "for j in range(0,n+1):\n",
    "    for i in range(0,n+1):\n",
    "        row = umap[i,j]\n",
    "        if i == 0 or i == n or j == 0 or j == n:\n",
    "            A[row,row] = 1.0\n",
    "            #b(row) = g(x(i),y(j))\n",
    "        else:\n",
    "            print(\"hi\",row)\n",
    "            A[row,row] = 4.0\n",
    "            A[row,umap[i+1,j]] = -1.0\n",
    "            A[row,umap[i-1,j]] = -1.0\n",
    "            A[row,umap[i,j+1]] = -1.0\n",
    "            A[row,umap[i,j-1]] = -1.0\n",
    "            #b[row] = f(x(i),y(j))*h^2\n",
    "\n",
    "            "
   ],
   "metadata": {
    "collapsed": false,
    "pycharm": {
     "name": "#%%\n",
     "is_executing": false
    }
   }
  },
  {
   "cell_type": "code",
   "execution_count": 58,
   "outputs": [
    {
     "name": "stdout",
     "text": [
      "[[0 3 6]\n",
      " [1 4 7]\n",
      " [2 5 8]]\n"
     ],
     "output_type": "stream"
    }
   ],
   "source": [
    "print(umap)\n",
    "A_prime = pd.DataFrame(A)"
   ],
   "metadata": {
    "collapsed": false,
    "pycharm": {
     "name": "#%%\n",
     "is_executing": false
    }
   }
  },
  {
   "cell_type": "code",
   "execution_count": 59,
   "outputs": [
    {
     "data": {
      "text/plain": "     0    1    2    3    4    5    6    7    8\n0  1.0  0.0  0.0  0.0  0.0  0.0  0.0  0.0  0.0\n1  0.0  1.0  0.0  0.0  0.0  0.0  0.0  0.0  0.0\n2  0.0  0.0  1.0  0.0  0.0  0.0  0.0  0.0  0.0\n3  0.0  0.0  0.0  1.0  0.0  0.0  0.0  0.0  0.0\n4  0.0 -1.0  0.0 -1.0  4.0 -1.0  0.0 -1.0  0.0\n5  0.0  0.0  0.0  0.0  0.0  1.0  0.0  0.0  0.0\n6  0.0  0.0  0.0  0.0  0.0  0.0  1.0  0.0  0.0\n7  0.0  0.0  0.0  0.0  0.0  0.0  0.0  1.0  0.0\n8  0.0  0.0  0.0  0.0  0.0  0.0  0.0  0.0  1.0",
      "text/html": "<div>\n<style scoped>\n    .dataframe tbody tr th:only-of-type {\n        vertical-align: middle;\n    }\n\n    .dataframe tbody tr th {\n        vertical-align: top;\n    }\n\n    .dataframe thead th {\n        text-align: right;\n    }\n</style>\n<table border=\"1\" class=\"dataframe\">\n  <thead>\n    <tr style=\"text-align: right;\">\n      <th></th>\n      <th>0</th>\n      <th>1</th>\n      <th>2</th>\n      <th>3</th>\n      <th>4</th>\n      <th>5</th>\n      <th>6</th>\n      <th>7</th>\n      <th>8</th>\n    </tr>\n  </thead>\n  <tbody>\n    <tr>\n      <th>0</th>\n      <td>1.0</td>\n      <td>0.0</td>\n      <td>0.0</td>\n      <td>0.0</td>\n      <td>0.0</td>\n      <td>0.0</td>\n      <td>0.0</td>\n      <td>0.0</td>\n      <td>0.0</td>\n    </tr>\n    <tr>\n      <th>1</th>\n      <td>0.0</td>\n      <td>1.0</td>\n      <td>0.0</td>\n      <td>0.0</td>\n      <td>0.0</td>\n      <td>0.0</td>\n      <td>0.0</td>\n      <td>0.0</td>\n      <td>0.0</td>\n    </tr>\n    <tr>\n      <th>2</th>\n      <td>0.0</td>\n      <td>0.0</td>\n      <td>1.0</td>\n      <td>0.0</td>\n      <td>0.0</td>\n      <td>0.0</td>\n      <td>0.0</td>\n      <td>0.0</td>\n      <td>0.0</td>\n    </tr>\n    <tr>\n      <th>3</th>\n      <td>0.0</td>\n      <td>0.0</td>\n      <td>0.0</td>\n      <td>1.0</td>\n      <td>0.0</td>\n      <td>0.0</td>\n      <td>0.0</td>\n      <td>0.0</td>\n      <td>0.0</td>\n    </tr>\n    <tr>\n      <th>4</th>\n      <td>0.0</td>\n      <td>-1.0</td>\n      <td>0.0</td>\n      <td>-1.0</td>\n      <td>4.0</td>\n      <td>-1.0</td>\n      <td>0.0</td>\n      <td>-1.0</td>\n      <td>0.0</td>\n    </tr>\n    <tr>\n      <th>5</th>\n      <td>0.0</td>\n      <td>0.0</td>\n      <td>0.0</td>\n      <td>0.0</td>\n      <td>0.0</td>\n      <td>1.0</td>\n      <td>0.0</td>\n      <td>0.0</td>\n      <td>0.0</td>\n    </tr>\n    <tr>\n      <th>6</th>\n      <td>0.0</td>\n      <td>0.0</td>\n      <td>0.0</td>\n      <td>0.0</td>\n      <td>0.0</td>\n      <td>0.0</td>\n      <td>1.0</td>\n      <td>0.0</td>\n      <td>0.0</td>\n    </tr>\n    <tr>\n      <th>7</th>\n      <td>0.0</td>\n      <td>0.0</td>\n      <td>0.0</td>\n      <td>0.0</td>\n      <td>0.0</td>\n      <td>0.0</td>\n      <td>0.0</td>\n      <td>1.0</td>\n      <td>0.0</td>\n    </tr>\n    <tr>\n      <th>8</th>\n      <td>0.0</td>\n      <td>0.0</td>\n      <td>0.0</td>\n      <td>0.0</td>\n      <td>0.0</td>\n      <td>0.0</td>\n      <td>0.0</td>\n      <td>0.0</td>\n      <td>1.0</td>\n    </tr>\n  </tbody>\n</table>\n</div>"
     },
     "metadata": {},
     "output_type": "execute_result",
     "execution_count": 59
    }
   ],
   "source": [
    "A_prime\n"
   ],
   "metadata": {
    "collapsed": false,
    "pycharm": {
     "name": "#%%\n",
     "is_executing": false
    }
   }
  },
  {
   "cell_type": "code",
   "execution_count": null,
   "outputs": [],
   "source": [
    "\n"
   ],
   "metadata": {
    "collapsed": false,
    "pycharm": {
     "name": "#%%\n"
    }
   }
  }
 ],
 "metadata": {
  "kernelspec": {
   "display_name": "Python 2",
   "language": "python",
   "name": "python2"
  },
  "language_info": {
   "codemirror_mode": {
    "name": "ipython",
    "version": 2
   },
   "file_extension": ".py",
   "mimetype": "text/x-python",
   "name": "python",
   "nbconvert_exporter": "python",
   "pygments_lexer": "ipython2",
   "version": "2.7.6"
  },
  "pycharm": {
   "stem_cell": {
    "cell_type": "raw",
    "source": [],
    "metadata": {
     "collapsed": false
    }
   }
  }
 },
 "nbformat": 4,
 "nbformat_minor": 0
}