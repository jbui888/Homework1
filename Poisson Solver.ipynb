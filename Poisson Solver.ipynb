{
 "cells": [
  {
   "cell_type": "code",
   "execution_count": 73,
   "metadata": {
    "collapsed": true,
    "pycharm": {
     "is_executing": false
    }
   },
   "outputs": [],
   "source": [
    "import numpy as np\n",
    "import pandas as pd\n",
    "import matplotlib as mpl\n",
    "import matplotlib.pyplot as plt\n",
    "\n",
    "def solvepoisson(n):\n",
    "    #Solves 2D Poisson Eqn with Dirichlet Boundary Conditions\n",
    "    #Assembles the system matrix and right hand side\n",
    "    h = 1.0 / n #Set up grid\n",
    "    N = np.power((n+1),2)\n",
    "    x = np.multiply(h,np.arange(0,n+1))\n",
    "    y = x\n",
    "    \n",
    "    uexact = lambda (x,y) : np.divide(np.exp((-4.*np.power((x-0.3),2))),np.exp(9.*np.power((y-0.6),2))) #Exact Solution\n",
    "    g = uexact #Solution at Boundaries = Exact Solution\n",
    "    f = lambda (x,y) : np.multiply(np.exp(((-4.*np.power((x-0.3),2)) - (9.*np.power((y-0.6),2)))), (26. - np.power(((18.*y-10.8)),2)-np.power((8.*x-2.4),2))) #LHS\n",
    "    \n",
    "    umap = np.reshape(np.arange(0,N),(n+1,n+1))\n",
    "    A = np.zeros((N,N))\n",
    "    b = np.zeros((N,1))\n",
    "    \n",
    "    for j in range(0,n+1):\n",
    "        for i in range(0,n+1):\n",
    "            row = umap[i,j]\n",
    "            if i == 0 or i == n or j == 0 or j == n: #Applies Dirichlet BC at Walls\n",
    "                A[row,row] = 1.0\n",
    "                b[row] = g([x[i],y[j]])\n",
    "            else:\n",
    "                A[row,row] = 4.0\n",
    "                A[row,umap[i+1,j]] = -1.0\n",
    "                A[row,umap[i-1,j]] = -1.0\n",
    "                A[row,umap[i,j+1]] = -1.0\n",
    "                A[row,umap[i,j-1]] = -1.0\n",
    "                b[row] = f([x[i],y[j]])*np.power(h,2)\n",
    "    return A,b"
   ]
  },
  {
   "cell_type": "code",
   "execution_count": 74,
   "outputs": [
    {
     "data": {
      "text/plain": "<matplotlib.contour.QuadContourSet at 0x1d2402490>"
     },
     "metadata": {},
     "output_type": "execute_result",
     "execution_count": 74
    },
    {
     "data": {
      "image/png": "[encoded data removed]",
      "text/plain": "<Figure size 432x288 with 1 Axes>"
     },
     "metadata": {
      "needs_background": "light"
     },
     "output_type": "display_data"
    }
   ],
   "source": [
    "n = 100\n",
    "A,b = solvepoisson(n)\n",
    "solution = np.linalg.solve(A,b)\n",
    "\n",
    "u = np.reshape(solution,(n+1,n+1))\n",
    "\n",
    "plt.contourf(u)"
   ],
   "metadata": {
    "collapsed": false,
    "pycharm": {
     "name": "#%%\n",
     "is_executing": false
    }
   }
  },
  {
   "cell_type": "code",
   "execution_count": null,
   "outputs": [],
   "source": [
    "\n"
   ],
   "metadata": {
    "collapsed": false,
    "pycharm": {
     "name": "#%%\n"
    }
   }
  }
 ],
 "metadata": {
  "kernelspec": {
   "display_name": "Python 2",
   "language": "python",
   "name": "python2"
  },
  "language_info": {
   "codemirror_mode": {
    "name": "ipython",
    "version": 2
   },
   "file_extension": ".py",
   "mimetype": "text/x-python",
   "name": "python",
   "nbconvert_exporter": "python",
   "pygments_lexer": "ipython2",
   "version": "2.7.6"
  },
  "pycharm": {
   "stem_cell": {
    "cell_type": "raw",
    "source": [],
    "metadata": {
     "collapsed": false
    }
   }
  }
 },
 "nbformat": 4,
 "nbformat_minor": 0
}