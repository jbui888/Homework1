{
 "cells": [
  {
   "cell_type": "code",
   "execution_count": 52,
   "metadata": {
    "collapsed": true,
    "pycharm": {
     "is_executing": false
    }
   },
   "outputs": [],
   "source": [
    "import numpy as np\n",
    "import pandas as pd\n",
    "import math\n",
    "def vandermond(k,stencil):\n",
    "    n = stencil.size\n",
    "    if k >= n:\n",
    "        print(\"*** Stencil size must be larger than order k\")\n",
    "        return\n",
    "    a = np.ones((n,n))\n",
    "    for i in range(1,n):\n",
    "        a[i,:] = np.divide(np.power(stencil,i),math.factorial(i))\n",
    "    b = np.zeros((n,1))\n",
    "    b[k] = 1\n",
    "\n",
    "    coeff = np.linalg.solve(a,b)\n",
    "    return coeff"
   ]
  },
  {
   "cell_type": "code",
   "execution_count": 53,
   "outputs": [
    {
     "data": {
      "text/plain": "array([[ 1.83333333],\n       [-3.        ],\n       [ 1.5       ],\n       [-0.33333333]])"
     },
     "metadata": {},
     "output_type": "execute_result",
     "execution_count": 53
    }
   ],
   "source": [
    "stencil = np.arange(0,-4,-1,dtype=float)\n",
    "\n",
    "vandermond(1,stencil)"
   ],
   "metadata": {
    "collapsed": false,
    "pycharm": {
     "name": "#%%\n",
     "is_executing": false
    }
   }
  },
  {
   "cell_type": "code",
   "execution_count": null,
   "outputs": [],
   "source": [],
   "metadata": {
    "collapsed": false,
    "pycharm": {
     "name": "#%%\n"
    }
   }
  }
 ],
 "metadata": {
  "kernelspec": {
   "display_name": "Python 2",
   "language": "python",
   "name": "python2"
  },
  "language_info": {
   "codemirror_mode": {
    "name": "ipython",
    "version": 2
   },
   "file_extension": ".py",
   "mimetype": "text/x-python",
   "name": "python",
   "nbconvert_exporter": "python",
   "pygments_lexer": "ipython2",
   "version": "2.7.6"
  },
  "pycharm": {
   "stem_cell": {
    "cell_type": "raw",
    "source": [],
    "metadata": {
     "collapsed": false
    }
   }
  }
 },
 "nbformat": 4,
 "nbformat_minor": 0
}